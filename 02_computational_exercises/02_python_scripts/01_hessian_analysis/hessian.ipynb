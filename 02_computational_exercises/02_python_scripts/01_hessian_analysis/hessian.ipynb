{
 "cells": [
  {
   "cell_type": "markdown",
   "metadata": {},
   "source": [
    "# Hessian Matrix in Quantum Chemistry | Introduction"
   ]
  },
  {
   "cell_type": "markdown",
   "metadata": {},
   "source": [
    "## 1. What is the Hessian in Quantum Chemistry?\n",
    "\n",
    "The **Hessian matrix** in quantum chemistry is a second-derivative matrix that describes how the potential energy of a molecule changes with respect to atomic displacements. It is mathematically expressed as:\n",
    "\n",
    "$$\n",
    "H_{ij} = \\frac{\\partial^2 E}{\\partial x_i \\partial x_j}\n",
    "$$\n",
    "\n",
    "where:\n",
    "- $ E $ is the total molecular potential energy,\n",
    "- $ x_i $ and $ x_j $ are Cartesian coordinates of atoms.\n",
    "\n",
    "Since energy is a function of atomic positions, the Hessian provides information about the **curvature of the potential energy surface (PES)**, which is crucial for understanding molecular stability, vibrational motions, and chemical reactivity.\n",
    "\n",
    "### Importance of the Hessian Matrix\n",
    "- **Characterization of stationary points:** The Hessian helps classify whether a molecular geometry corresponds to a **local minimum** (all eigenvalues positive) or a **transition state** (one eigenvalue negative).\n",
    "- **Vibrational analysis:** The Hessian determines vibrational modes and frequencies, which are essential for **infrared (IR) and Raman spectroscopy**.\n",
    "- **Molecular dynamics and reactions:** The Hessian plays a role in reaction pathway calculations, such as **intrinsic reaction coordinate (IRC) calculations**.\n"
   ]
  },
  {
   "cell_type": "markdown",
   "metadata": {},
   "source": [
    "## 2. How is the Hessian Related to Vibrational Frequencies and Normal Modes?\n",
    "\n",
    "The Hessian is directly linked to **vibrational frequencies** and **normal modes** because it contains the force constants governing atomic motions. The key relationships are:\n",
    "\n",
    "### 2.1 Vibrational Motion and the Harmonic Approximation\n",
    "In quantum chemistry, molecular vibrations are often described using the **harmonic approximation**, where the potential energy surface near equilibrium is approximated by a **quadratic function**:\n",
    "\n",
    "$$\n",
    "V(\\mathbf{q}) = V_0 + \\frac{1}{2} \\sum_{i,j} H_{ij} q_i q_j\n",
    "$$\n",
    "\n",
    "where $ q_i $ and $ q_j $ are atomic displacements along Cartesian coordinates.\n",
    "\n",
    "### 2.2 How Can We Calculate Vibrational Frequencies from the Hessian?\n",
    "\n",
    "To compute **vibrational frequencies** from the Hessian matrix, follow these steps:\n",
    "\n",
    "#### 2.2.1 Step 1: Compute the Hessian Matrix\n",
    "- Perform a **geometry optimization** to locate a stationary point (minimum or transition state).\n",
    "- Compute the **second derivatives** of energy with respect to Cartesian coordinates, forming the Hessian matrix.\n",
    "\n",
    "$$\n",
    "\\mathbf{H}_{ij} = \\frac{\\partial^2 E}{\\partial x_i \\partial x_j}\n",
    "$$\n",
    "\n",
    "This matrix contains information about the molecular stiffness in different directions.\n",
    "\n",
    "#### 2.2.2 Step 2: Convert the Hessian to Mass-Weighted Form\n",
    "- The Hessian is converted to a **mass-weighted Hessian** by dividing each element by the square root of the corresponding atomic masses:\n",
    "\n",
    "$$\n",
    "\\mathbf{H'}_{ij} = \\frac{\\mathbf{H}_{ij}}{\\sqrt{m_i m_j}}\n",
    "$$\n",
    "\n",
    "where $ m_i $ and $ m_j $ are the masses of atoms corresponding to coordinates $ i $ and $ j $.\n",
    "\n",
    "- The mass-weighted Hessian matrix is given by:\n",
    "\n",
    "$$\n",
    "\\mathbf{H}' = \\mathbf{M}^{-\\frac{1}{2}} \\mathbf{H} \\mathbf{M}^{-\\frac{1}{2}}\n",
    "$$\n",
    "\n",
    "where $ \\mathbf{M} $ is the diagonal mass matrix:\n",
    "\n",
    "$$\n",
    "\\mathbf{M} = \\text{diag} ( m_1, m_1, m_1,\\, m_2, m_2, m_2,\\, \\ldots,\\, m_N, m_N, m_N ).\n",
    "$$\n",
    "\n",
    "#### 2.2.3 Step 3: Diagonalize the Mass-Weighted Hessian\n",
    "- Solve the **eigenvalue problem** for the mass-weighted Hessian:\n",
    "\n",
    "$$\n",
    "\\mathbf{H}' \\mathbf{v} = \\lambda \\mathbf{v}\n",
    "$$\n",
    "\n",
    "- The eigenvalues $ \\lambda_i $ correspond to the vibrational force constants.\n",
    "- The eigenvectors $ \\mathbf{v}_i $ represent the normal mode displacements.\n",
    "\n",
    "#### 2.2.4 Step 4: Compute Vibrational Frequencies\n",
    "- Convert eigenvalues to frequencies:\n",
    "\n",
    "$$\n",
    "\\nu_i = \\sqrt{\\lambda_i}\n",
    "$$\n",
    "\n",
    "- Frequencies are often converted to **wavenumbers** ($ \\tilde{\\nu} $, in $ cm^{-1} $):\n",
    "\n",
    "$$\n",
    "\\tilde{\\nu}_i = \\frac{\\nu_i}{2\\pi c}\n",
    "$$\n",
    "\n",
    "where $ c $ is the speed of light in cm/s.\n",
    "\n",
    "#### 2.2.5 Step 5: Assign Vibrational Modes\n",
    "- Analyze the normal modes to determine their nature:\n",
    "  - **Real, positive frequencies** correspond to **stable vibrations**.\n",
    "  - **One imaginary frequency ($\\nu_i^2 < 0$)** indicates a **transition state**.\n"
   ]
  },
  {
   "cell_type": "markdown",
   "metadata": {},
   "source": [
    "## 3. Summary\n",
    "\n",
    "| Step | Description |\n",
    "|------|------------|\n",
    "| **1. Compute Hessian** | Obtain second derivatives of energy with respect to atomic displacements. |\n",
    "| **2. Convert to Mass-Weighted Form** | Divide each element by $ \\sqrt{m_i m_j} $ to account for atomic masses. |\n",
    "| **3. Diagonalize the Matrix** | Solve the eigenvalue problem to obtain normal modes. |\n",
    "| **4. Compute Frequencies** | Convert eigenvalues to vibrational frequencies using $ \\nu =\\sqrt{\\lambda} $. |\n",
    "| **5. Assign Vibrational Modes** | Identify stretching, bending, and other vibrational motions. |"
   ]
  },
  {
   "cell_type": "markdown",
   "metadata": {},
   "source": [
    "# Analyse Hessian using Python"
   ]
  },
  {
   "cell_type": "markdown",
   "metadata": {},
   "source": [
    "## 1. Runing ORCA Optimizatin and Frequency Calculation for $\\mathbf{H_2O}$"
   ]
  },
  {
   "cell_type": "markdown",
   "metadata": {},
   "source": [
    "```\n",
    "! PAL2\n",
    "! Opt Freq B3LYP Def2-TZVP Def2/J DefGrid2\n",
    "! TightSCF\n",
    "! LargePrint\n",
    "\n",
    "%MaxCore 1000\n",
    "\n",
    "* xyz 0 1\n",
    "O    0.0000   -0.7920    0.7920\n",
    "H    0.0000    0.0000    0.0000\n",
    "H    0.0626   -0.4973   -0.4973\n",
    "*\n",
    "```"
   ]
  },
  {
   "cell_type": "markdown",
   "metadata": {},
   "source": [
    "## 2. Importing libraries"
   ]
  },
  {
   "cell_type": "code",
   "execution_count": null,
   "metadata": {},
   "outputs": [],
   "source": [
    "import re\n",
    "import numpy as np\n",
    "import pandas as pd\n",
    "from io import StringIO\n",
    "\n",
    "pd.set_option('display.width', 1000)\n",
    "pd.set_option('display.max_columns', None)"
   ]
  },
  {
   "cell_type": "markdown",
   "metadata": {},
   "source": [
    "## 3. Defining the conversion factors"
   ]
  },
  {
   "cell_type": "code",
   "execution_count": 2,
   "metadata": {},
   "outputs": [],
   "source": [
    "bohr2m = 0.529177249e-10\n",
    "bohr2ang = 0.529177249\n",
    "au2joule = 4.35974434e-18\n",
    "au2ev = 2.72114e1\n",
    "cmInv2au = 4.55634e-6\n",
    "amu2au = 1./5.4857990943e-4"
   ]
  },
  {
   "cell_type": "markdown",
   "metadata": {},
   "source": [
    "## 4. Defining the functions and do the calculations"
   ]
  },
  {
   "cell_type": "markdown",
   "metadata": {},
   "source": [
    "### 4.1 Capturing basic information about the chemical structure"
   ]
  },
  {
   "cell_type": "code",
   "execution_count": 45,
   "metadata": {},
   "outputs": [],
   "source": [
    "def analyse_basic(hessian_path):\n",
    "    \n",
    "    with open(hessian_path, 'r') as f:\n",
    "        hess = f.read()\n",
    "\n",
    "    regex = r'\\$atoms\\s+\\d+\\s+((?:\\s+[a-zA-Z]+\\s+\\d+.\\d+\\s+-?\\d+\\.\\d+\\s+-?\\d+\\.\\d+\\s+-?\\d+\\.\\d+.+)+)'\n",
    "\n",
    "    matches = re.search(regex, hess).group()\n",
    "    matches = matches.split('\\n')[2:]\n",
    "    matches = '\\n'.join(matches)\n",
    "\n",
    "    df = pd.read_csv(StringIO(matches), sep=r'\\s+', header=None)\n",
    "\n",
    "    df.columns = ['Symbol', 'Mass', 'X', 'Y', 'Z']\n",
    "    \n",
    "    df[['X', 'Y', 'Z']] = df[['X', 'Y', 'Z']] * bohr2ang\n",
    "\n",
    "    df['Mass'] = df['Mass'] * amu2au\n",
    "    \n",
    "    return df\n",
    "    # return matches"
   ]
  },
  {
   "cell_type": "code",
   "execution_count": 46,
   "metadata": {},
   "outputs": [
    {
     "name": "stdout",
     "output_type": "stream",
     "text": [
      "Basic Information\n",
      "  Symbol          Mass         X         Y         Z\n",
      "0      O  29164.392871  0.014997 -0.654708  0.416430\n",
      "1      H   1837.471593 -0.043060  0.305760  0.378384\n",
      "2      H   1837.471593  0.090663 -0.940352 -0.500114\n"
     ]
    }
   ],
   "source": [
    "df_basic = analyse_basic(hessian_path='orca_job/h2o.hess')\n",
    "\n",
    "print('Basic Information')\n",
    "print(df_basic)"
   ]
  },
  {
   "cell_type": "markdown",
   "metadata": {},
   "source": [
    "### 4.2 Capturing the hessian matrix ($\\mathbf{H}$)"
   ]
  },
  {
   "cell_type": "code",
   "execution_count": 5,
   "metadata": {},
   "outputs": [],
   "source": [
    "def analyse_hessian(hessian_path, atom_number):\n",
    "\n",
    "    dof = 3 * atom_number\n",
    "    \n",
    "    with open(hessian_path, 'r') as f:\n",
    "        hess = f.read()\n",
    "    \n",
    "    regex = r'(?ms)\\$hessian\\s\\d+(.*)\\$vibrational_frequencies'\n",
    "    \n",
    "    hess_lines = re.search(regex, hess).group().split('\\n')[2:]\n",
    "\n",
    "    hess_lines_2 = list(zip(*(iter(hess_lines),) * (dof+1)))\n",
    "\n",
    "    hess_data = {str(i):[] for i in range(dof)}\n",
    "\n",
    "    for i in hess_lines_2:\n",
    "        col_nums = i[0].strip().split()\n",
    "        \n",
    "        for j in range(1,dof+1):        \n",
    "            for k in range(len(col_nums)):\n",
    "                hess_data[col_nums[k]].append(float(i[j].strip().split()[k+1]))\n",
    "            \n",
    "    hessian_mat = pd.DataFrame(hess_data).to_numpy()\n",
    "\n",
    "    return hessian_mat            "
   ]
  },
  {
   "cell_type": "code",
   "execution_count": 31,
   "metadata": {},
   "outputs": [
    {
     "name": "stdout",
     "output_type": "stream",
     "text": [
      "Hessian (Hartree/Bohr^2)\n",
      "          0         1         2         3         4         5         6         7         8\n",
      "0  0.005303 -0.044138 -0.039168 -0.002058  0.032593 -0.000468 -0.003244  0.011545  0.039635\n",
      "1 -0.044129  0.592793  0.107969  0.028873 -0.510132  0.051611  0.015256 -0.082658 -0.159575\n",
      "2 -0.039095  0.108016  0.514413  0.003286 -0.007918 -0.044067  0.035809 -0.100099 -0.470341\n",
      "3 -0.002050  0.028851  0.003274  0.002286 -0.032985 -0.002785 -0.000236  0.004135 -0.000489\n",
      "4  0.032591 -0.510112 -0.007914 -0.032985  0.526504 -0.002207  0.000394 -0.016393  0.010118\n",
      "5 -0.000479  0.051582 -0.044076 -0.002785 -0.002207  0.046513  0.003264 -0.049375 -0.002434\n",
      "6 -0.003269  0.015243  0.035893 -0.000236  0.000394  0.003264  0.003505 -0.015638 -0.039157\n",
      "7  0.011503 -0.082647 -0.100067  0.004135 -0.016394 -0.049375 -0.015637  0.099041  0.149440\n",
      "8  0.039644 -0.159557 -0.470334 -0.000489  0.010118 -0.002434 -0.039156  0.149439  0.472760\n"
     ]
    }
   ],
   "source": [
    "hessian = analyse_hessian(hessian_path='orca_job/h2o.hess', atom_number=3)\n",
    "\n",
    "print('Hessian (Hartree/Bohr^2)')\n",
    "print(pd.DataFrame(hessian))"
   ]
  },
  {
   "cell_type": "markdown",
   "metadata": {},
   "source": [
    "### 4.3 Building the mass matrix ($\\mathbf{M}$)"
   ]
  },
  {
   "cell_type": "code",
   "execution_count": 7,
   "metadata": {},
   "outputs": [],
   "source": [
    "def build_mass_matrix(masses):\n",
    "    N = len(masses)\n",
    "    size = 3 * N\n",
    "    M = np.zeros((size, size))\n",
    "    for i in range(N):\n",
    "        M[3*i, 3*i] = masses[i]\n",
    "        M[3*i+1, 3*i+1] = masses[i]\n",
    "        M[3*i+2, 3*i+2] = masses[i]\n",
    "    return M"
   ]
  },
  {
   "cell_type": "code",
   "execution_count": 30,
   "metadata": {},
   "outputs": [
    {
     "name": "stdout",
     "output_type": "stream",
     "text": [
      "Mass matrix (au)\n",
      "              0             1             2            3            4            5            6            7            8\n",
      "0  29164.392871      0.000000      0.000000     0.000000     0.000000     0.000000     0.000000     0.000000     0.000000\n",
      "1      0.000000  29164.392871      0.000000     0.000000     0.000000     0.000000     0.000000     0.000000     0.000000\n",
      "2      0.000000      0.000000  29164.392871     0.000000     0.000000     0.000000     0.000000     0.000000     0.000000\n",
      "3      0.000000      0.000000      0.000000  1837.471593     0.000000     0.000000     0.000000     0.000000     0.000000\n",
      "4      0.000000      0.000000      0.000000     0.000000  1837.471593     0.000000     0.000000     0.000000     0.000000\n",
      "5      0.000000      0.000000      0.000000     0.000000     0.000000  1837.471593     0.000000     0.000000     0.000000\n",
      "6      0.000000      0.000000      0.000000     0.000000     0.000000     0.000000  1837.471593     0.000000     0.000000\n",
      "7      0.000000      0.000000      0.000000     0.000000     0.000000     0.000000     0.000000  1837.471593     0.000000\n",
      "8      0.000000      0.000000      0.000000     0.000000     0.000000     0.000000     0.000000     0.000000  1837.471593\n"
     ]
    }
   ],
   "source": [
    "M = build_mass_matrix(df_basic['Mass'].values)\n",
    "\n",
    "print('Mass matrix (au)')\n",
    "print(pd.DataFrame(M))"
   ]
  },
  {
   "cell_type": "markdown",
   "metadata": {},
   "source": [
    "### 4.4 Transforming the Hessian to Mass-weighted Hessian ($\\mathbf{H'}$)"
   ]
  },
  {
   "cell_type": "code",
   "execution_count": 14,
   "metadata": {},
   "outputs": [],
   "source": [
    "def mass_weighted_hessian(H, M):\n",
    "    M_inv_sqrt = np.diag(1.0 / np.sqrt(np.diag(M)))\n",
    "    H_prime = M_inv_sqrt @ H @ M_inv_sqrt\n",
    "    return H_prime"
   ]
  },
  {
   "cell_type": "code",
   "execution_count": 47,
   "metadata": {},
   "outputs": [
    {
     "name": "stdout",
     "output_type": "stream",
     "text": [
      "Mass-weighted Hessian or H_prime\n",
      "              0         1             2             3             4             5             6         7             8\n",
      "0  1.818463e-07 -0.000002 -1.343000e-06 -2.810694e-07  4.452346e-06 -6.392549e-08 -4.431977e-07  0.000002  5.414241e-06\n",
      "1 -1.513103e-06  0.000020  3.702067e-06  3.944148e-06 -6.968601e-05  7.050313e-06  2.084073e-06 -0.000011 -2.179854e-05\n",
      "2 -1.340515e-06  0.000004  1.763838e-05  4.489110e-07 -1.081573e-06 -6.019680e-06  4.891685e-06 -0.000014 -6.425047e-05\n",
      "3 -2.800878e-07  0.000004  4.472490e-07  1.244066e-06 -1.795148e-05 -1.515501e-06 -1.286570e-07  0.000002 -2.659078e-07\n",
      "4  4.452028e-06 -0.000070 -1.081109e-06 -1.795148e-05  2.865370e-04 -1.200851e-06  2.145643e-07 -0.000009  5.506282e-06\n",
      "5 -6.547575e-08  0.000007 -6.020970e-06 -1.515483e-06 -1.200850e-06  2.531384e-05  1.776303e-06 -0.000027 -1.324687e-06\n",
      "6 -4.465710e-07  0.000002  4.903088e-06 -1.286269e-07  2.146140e-07  1.776354e-06  1.907400e-06 -0.000009 -2.131001e-05\n",
      "7  1.571312e-06 -0.000011 -1.366950e-05  2.250138e-06 -8.921822e-06 -2.687132e-05 -8.510264e-06  0.000054  8.132912e-05\n",
      "8  5.415545e-06 -0.000022 -6.424953e-05 -2.659551e-07  5.506270e-06 -1.324639e-06 -2.130958e-05  0.000081  2.572886e-04\n"
     ]
    }
   ],
   "source": [
    "H_prime = mass_weighted_hessian(hessian, M)\n",
    "\n",
    "print('Mass-weighted Hessian or H_prime')\n",
    "print(pd.DataFrame(H_prime))"
   ]
  },
  {
   "cell_type": "markdown",
   "metadata": {},
   "source": [
    "### 4.5 Diagonalizing the $\\mathbf{H'}$"
   ]
  },
  {
   "cell_type": "code",
   "execution_count": 16,
   "metadata": {},
   "outputs": [],
   "source": [
    "def diagonalize_hessian(H_prime):\n",
    "    eigenvals, eigenvects = np.linalg.eigh(H_prime)\n",
    "    return eigenvals, eigenvects"
   ]
  },
  {
   "cell_type": "code",
   "execution_count": 48,
   "metadata": {},
   "outputs": [
    {
     "name": "stdout",
     "output_type": "stream",
     "text": [
      "Eigenvalues\n",
      "              0\n",
      "0 -3.076483e-09\n",
      "1  1.483582e-09\n",
      "2  1.886369e-09\n",
      "3  1.989806e-08\n",
      "4  2.318461e-08\n",
      "5  3.271871e-08\n",
      "6  5.424279e-05\n",
      "7  2.966778e-04\n",
      "8  3.133407e-04\n",
      "\n",
      "\n",
      "Eigenvectors\n",
      "          0         1         2         3         4         5         6         7         8\n",
      "0 -0.655774 -0.384841 -0.555452 -0.275332  0.038279  0.188336 -0.004089  0.002914 -0.023716\n",
      "1 -0.335000  0.854803 -0.204155 -0.013463 -0.169799  0.015654 -0.157955  0.110944  0.221112\n",
      "2  0.595819  0.059500 -0.727250 -0.046818 -0.102753  0.030671  0.223407 -0.157191  0.155742\n",
      "3 -0.146367 -0.106050 -0.158453  0.943385 -0.068503  0.204841  0.043714  0.044720  0.041046\n",
      "4 -0.083223  0.214255 -0.052421  0.061495 -0.018977  0.012002 -0.016547 -0.691808 -0.679163\n",
      "5  0.143501  0.021570 -0.183194  0.081471  0.690310 -0.028801 -0.678453 -0.019076  0.026902\n",
      "6 -0.149661 -0.105350 -0.152163  0.141152 -0.092933 -0.952896 -0.027371 -0.056337  0.053440\n",
      "7 -0.089995  0.220915 -0.051526  0.038057  0.638833 -0.103361  0.645834  0.249811 -0.201731\n",
      "8  0.152629  0.012233 -0.183513 -0.007298 -0.246614 -0.041428 -0.211632  0.645316 -0.647355\n"
     ]
    }
   ],
   "source": [
    "evals, evecs = diagonalize_hessian(H_prime)\n",
    "\n",
    "print('Eigenvalues')\n",
    "print(pd.DataFrame(evals))\n",
    "\n",
    "print('\\n')\n",
    "\n",
    "print('Eigenvectors')\n",
    "print(pd.DataFrame(evecs))\n"
   ]
  },
  {
   "cell_type": "markdown",
   "metadata": {},
   "source": [
    "### 3.6 Computing the frequencies"
   ]
  },
  {
   "cell_type": "code",
   "execution_count": 26,
   "metadata": {},
   "outputs": [],
   "source": [
    "def compute_frequencies(eigenvals):\n",
    "    threshold = 1e-6\n",
    "    positive_eigs = np.array([ev if ev > threshold else 0.0 for ev in eigenvals])\n",
    "    freqs = np.sqrt(positive_eigs) \n",
    "    freqs_cmInv = freqs / cmInv2au\n",
    "    return freqs_cmInv"
   ]
  },
  {
   "cell_type": "code",
   "execution_count": 27,
   "metadata": {},
   "outputs": [
    {
     "name": "stdout",
     "output_type": "stream",
     "text": [
      "Frequencies (cm-1)\n",
      "             0\n",
      "0     0.000000\n",
      "1     0.000000\n",
      "2     0.000000\n",
      "3     0.000000\n",
      "4     0.000000\n",
      "5     0.000000\n",
      "6  1616.422512\n",
      "7  3780.301208\n",
      "8  3885.011487\n"
     ]
    }
   ],
   "source": [
    "freqs = compute_frequencies(evals) \n",
    "\n",
    "print('Frequencies (cm-1)')\n",
    "print(pd.DataFrame(freqs))"
   ]
  },
  {
   "cell_type": "markdown",
   "metadata": {},
   "source": [
    "# Exercise"
   ]
  },
  {
   "cell_type": "markdown",
   "metadata": {},
   "source": [
    "Reproduce the normal modes from the ```h2o.hess``` file.\n",
    "\n",
    "! Hint: You should use the eigenvectors calculated in the previous section 4.5 of **Analyse Hessian using Python**."
   ]
  }
 ],
 "metadata": {
  "kernelspec": {
   "display_name": "cc_enc",
   "language": "python",
   "name": "python3"
  },
  "language_info": {
   "codemirror_mode": {
    "name": "ipython",
    "version": 3
   },
   "file_extension": ".py",
   "mimetype": "text/x-python",
   "name": "python",
   "nbconvert_exporter": "python",
   "pygments_lexer": "ipython3",
   "version": "3.12.3"
  }
 },
 "nbformat": 4,
 "nbformat_minor": 2
}
